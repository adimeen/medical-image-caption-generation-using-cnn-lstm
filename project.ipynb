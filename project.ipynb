{
 "cells": [
  {
   "cell_type": "code",
   "execution_count": 69,
   "metadata": {},
   "outputs": [],
   "source": [
    "import os\n",
    "import shutil as sh\n",
    "import string\n",
    "\n",
    "INIT_DIR = \"initial_data/\"\n",
    "IMG_DIR = \"images/\"\n",
    "CAP_FILE = \"captions.txt\"\n",
    "TABLE = str.maketrans(\"\\n\", \" \", string.punctuation)\n",
    "\n",
    "def retrieve_img_cap(main_dir):\n",
    "    for sub_dir in os.listdir(main_dir):\n",
    "        img_paths = []\n",
    "        cap_path = None\n",
    "        cur_dir = os.path.join(main_dir, sub_dir)\n",
    "\n",
    "        for file_ in os.listdir(cur_dir):\n",
    "            if \".txt\" in file_:\n",
    "                cap_path = file_\n",
    "            else:\n",
    "                img_paths.append(file_)\n",
    "\n",
    "        for img in img_paths:\n",
    "            sh.move(os.path.join(cur_dir, img).replace(\"\\\\\", \"/\"), os.path.join(IMG_DIR, img).replace(\"\\\\\", \"/\"))\n",
    "\n",
    "            with open(os.path.join(cur_dir, cap_path), \"r\") as cap_file_tmp:\n",
    "                cap = cap_file_tmp.read()\n",
    "                \n",
    "            nxt_line = \",\".join((img, cap.translate(TABLE)))\n",
    "\n",
    "            with open(CAP_FILE, \"a\") as cap_file:\n",
    "                cap_file.write(nxt_line + \"\\n\")\n",
    "\n",
    "retrieve_img_cap(INIT_DIR)"
   ]
  },
  {
   "cell_type": "code",
   "execution_count": 70,
   "metadata": {},
   "outputs": [],
   "source": [
    "import numpy as np\n",
    "import cv2\n",
    "\n",
    "IMG_SIZE_INC = (299, 299)\n",
    "IMG_SIZE_VGG = (224, 224)\n",
    "images_inc = []\n",
    "images_vgg = []\n",
    "    \n",
    "def preprocess_for_inc(img_name):    \n",
    "    img_path = os.path.join(IMG_DIR, img_name)\n",
    "    img = cv2.imread(img_path)\n",
    "    img = cv2.resize(img, IMG_SIZE_INC, interpolation=cv2.INTER_LANCZOS4)\n",
    "    img = cv2.cvtColor(img, cv2.COLOR_BGR2RGB)\n",
    "    img = img.astype(np.float32) / 255.0\n",
    "    img = (img - 0.5) * 2.0\n",
    "    \n",
    "    return img\n",
    "\n",
    "def preprocess_for_vgg(img_name):    \n",
    "    img_path = os.path.join(IMG_DIR, img_name)\n",
    "    img = cv2.imread(img_path)\n",
    "    img = cv2.resize(img, IMG_SIZE_VGG, interpolation=cv2.INTER_LANCZOS4)\n",
    "    img = cv2.cvtColor(img, cv2.COLOR_RGB2BGR)\n",
    "    img = img.astype(np.float32) / 255.0\n",
    "    img = (img - 0.5) * 2.0\n",
    "    \n",
    "    return img\n",
    "\n",
    "def preprocess_images(IMG_DIR):\n",
    "    for img_name in os.listdir(IMG_DIR):\n",
    "        images_inc.append(preprocess_for_inc(img_name))\n",
    "        images_vgg.append(preprocess_for_vgg(img_name))\n",
    "        \n",
    "preprocess_images(IMG_DIR)\n",
    "\n",
    "images_inc = np.array(images_inc).astype(np.float32)\n",
    "images_vgg = np.array(images_vgg).astype(np.float32)"
   ]
  },
  {
   "cell_type": "code",
   "execution_count": 71,
   "metadata": {},
   "outputs": [],
   "source": [
    "import re\n",
    "\n",
    "CAPTION_FILE = \"captions.txt\"\n",
    "\n",
    "def prepare_captions(cap_file):\n",
    "    with open(cap_file, 'r') as f:\n",
    "        captions = f.readlines()\n",
    "    \n",
    "    caption_dict = {}\n",
    "    max_cap_length = 0\n",
    "    \n",
    "    for caption in captions:\n",
    "        image_id, caption_text = caption.split(',', 1)\n",
    "        caption_text = caption_text.lower().strip()\n",
    "        \n",
    "        if len(re.split(\"\\s+\", caption_text)) + 2 > max_cap_length:\n",
    "            max_cap_length = len(re.split(\"\\s+\", caption_text)) + 2\n",
    "        \n",
    "        if image_id not in caption_dict:\n",
    "            caption_dict[image_id] = []\n",
    "            \n",
    "        caption_dict[image_id].append(\"<begin> \"+\" \".join(re.split(\"\\s+\", caption_text))+\" <end>\")\n",
    "        \n",
    "    return caption_dict, max_cap_length\n",
    "\n",
    "CAP_DIC, MAX_CAP_LENGTH = prepare_captions(CAPTION_FILE)"
   ]
  },
  {
   "cell_type": "code",
   "execution_count": 72,
   "metadata": {},
   "outputs": [],
   "source": [
    "train_images_inc = []\n",
    "train_images_vgg = []\n",
    "\n",
    "for img in images_inc[:int(0.8 * len(images_inc))]:\n",
    "    train_images_inc.append(img)\n",
    "    \n",
    "for img in images_vgg[:int(0.8 * len(images_vgg))]:\n",
    "    train_images_vgg.append(img)\n",
    "        \n",
    "test_images_inc = []\n",
    "test_images_vgg = []\n",
    "\n",
    "for img in images_inc[int(0.8 * len(images_inc)):]:\n",
    "    test_images_inc.append(img)\n",
    "    \n",
    "for img in images_vgg[int(0.8 * len(images_vgg)):]:\n",
    "    test_images_vgg.append(img)\n",
    "\n",
    "train_images_inc = np.array(train_images_inc).astype(np.float32)\n",
    "test_images_inc = np.array(test_images_inc).astype(np.float32)\n",
    "train_images_vgg = np.array(train_images_vgg).astype(np.float32)\n",
    "test_images_vgg = np.array(test_images_vgg).astype(np.float32)"
   ]
  },
  {
   "cell_type": "code",
   "execution_count": 73,
   "metadata": {},
   "outputs": [],
   "source": [
    "train_captions = []\n",
    "test_captions = []\n",
    "\n",
    "for image_id, captions in CAP_DIC.items():\n",
    "    if image_id in os.listdir(IMG_DIR):\n",
    "        if image_id in os.listdir(IMG_DIR)[:int(0.8 * len(images_inc))]:\n",
    "            train_captions.extend(captions)\n",
    "        else:\n",
    "            test_captions.extend(captions)"
   ]
  },
  {
   "cell_type": "code",
   "execution_count": 74,
   "metadata": {},
   "outputs": [],
   "source": [
    "import nltk\n",
    "\n",
    "tokenizer = nltk.tokenize.RegexpTokenizer(r\"\\w+\")\n",
    "word_to_index = {}\n",
    "index_to_word = {}\n",
    "index = 1\n",
    "\n",
    "for caption in train_captions:\n",
    "    tokens = tokenizer.tokenize(caption)\n",
    "    \n",
    "    for token in tokens:\n",
    "        if token not in word_to_index:\n",
    "            word_to_index[token] = index\n",
    "            index_to_word[index] = token\n",
    "            index += 1\n",
    "\n",
    "MAX_VOCAB = len(word_to_index) + 1"
   ]
  },
  {
   "cell_type": "code",
   "execution_count": 75,
   "metadata": {},
   "outputs": [],
   "source": [
    "train_seq = []\n",
    "test_seq = []\n",
    "\n",
    "for caption in train_captions:\n",
    "    tokens = tokenizer.tokenize(caption)\n",
    "    sequence = []\n",
    "    \n",
    "    for token in tokens:\n",
    "        if token in word_to_index:\n",
    "            sequence.append(word_to_index[token])\n",
    "            \n",
    "    train_seq.append(sequence)\n",
    "    \n",
    "for caption in test_captions:\n",
    "    tokens = tokenizer.tokenize(caption)\n",
    "    sequence = []\n",
    "    \n",
    "    for token in tokens:\n",
    "        if token in word_to_index:\n",
    "            sequence.append(word_to_index[token])\n",
    "            \n",
    "    test_seq.append(sequence)"
   ]
  },
  {
   "cell_type": "code",
   "execution_count": 76,
   "metadata": {},
   "outputs": [],
   "source": [
    "import tensorflow as tf\n",
    "\n",
    "# train_sequences = tf.keras.preprocessing.sequence.pad_sequences(train_seq, maxlen=MAX_CAP_LENGTH, padding=\"post\")\n",
    "# test_sequences = tf.keras.preprocessing.sequence.pad_sequences(test_seq, maxlen=MAX_CAP_LENGTH, padding=\"post\")"
   ]
  },
  {
   "cell_type": "code",
   "execution_count": 77,
   "metadata": {},
   "outputs": [],
   "source": [
    "from tensorflow.keras.applications.inception_v3 import InceptionV3 as IV3\n",
    "from tensorflow.keras.applications.vgg16 import VGG16 as V16\n",
    "from tensorflow.keras.models import Model\n",
    "\n",
    "inc_v3 = IV3(weights=\"imagenet\")\n",
    "inc_v3 = Model(inputs=inc_v3.inputs, outputs=inc_v3.layers[-2].output)\n",
    "\n",
    "vgg_16 = V16(weights=\"imagenet\")\n",
    "vgg_16 = Model(inputs=vgg_16.inputs, outputs=vgg_16.layers[-2].output)"
   ]
  },
  {
   "cell_type": "code",
   "execution_count": 78,
   "metadata": {},
   "outputs": [],
   "source": [
    "# feat_iv3 = inc_v3.predict(train_images_inc)\n",
    "# np.save(\"inc_v3_ext_feat.npy\", feat_iv3)\n",
    "feat_iv3 = np.load(\"inc_v3_ext_feat.npy\")"
   ]
  },
  {
   "cell_type": "code",
   "execution_count": 79,
   "metadata": {},
   "outputs": [],
   "source": [
    "# feat_v16 = vgg_16.predict(train_images_vgg)\n",
    "# np.save(\"vgg_16_ext_feat.npy\", feat_v16)\n",
    "feat_v16 = np.load(\"vgg_16_ext_feat.npy\")"
   ]
  },
  {
   "cell_type": "code",
   "execution_count": 80,
   "metadata": {},
   "outputs": [],
   "source": [
    "from tensorflow.keras.utils import to_categorical\n",
    "\n",
    "def create_input_seq(unpadded_seq, features):\n",
    "    for i in range(1, len(unpadded_seq)):\n",
    "        in_, out = tf.keras.preprocessing.sequence.pad_sequences([unpadded_seq[:i]], maxlen=MAX_CAP_LENGTH, padding=\"post\")[0], unpadded_seq[i]\n",
    "        out = to_categorical([out], num_classes=MAX_VOCAB)[0]\n",
    "        \n",
    "        input_feat.append(features)\n",
    "        input_seq.append(in_)\n",
    "        output_seq.append(out)"
   ]
  },
  {
   "cell_type": "code",
   "execution_count": null,
   "metadata": {},
   "outputs": [],
   "source": [
    "### CHANGE THE CODE BELOW TO GET RESULTS FOR DIFFERENT COMBINATIONS ####"
   ]
  },
  {
   "cell_type": "code",
   "execution_count": 65,
   "metadata": {},
   "outputs": [],
   "source": [
    "input_feat, input_seq, output_seq = [], [], []\n",
    "\n",
    "for i in range(len(feat_iv3)):\n",
    "    create_input_seq(train_seq[i], feat_iv3[i])\n",
    "    \n",
    "input_feat = np.array(input_feat).astype(np.float32)\n",
    "input_seq = np.array(input_seq).astype(np.float32)\n",
    "output_seq = np.array(output_seq).astype(np.float32)"
   ]
  },
  {
   "cell_type": "code",
   "execution_count": 81,
   "metadata": {},
   "outputs": [],
   "source": [
    "from tensorflow.keras.layers import Input, Dropout, Dense, LSTM, Bidirectional, Embedding, add \n",
    "from tensorflow.keras.utils import plot_model\n",
    "\n",
    "feat_ext_in = Input(shape=(2048,))\n",
    "feat_ext_dropout = Dropout(0.5)(feat_ext_in)\n",
    "feat_ext_dense = Dense(512, activation='relu')(feat_ext_dropout)\n",
    "encode_seq_in = Input(shape=(MAX_CAP_LENGTH,))\n",
    "encode_seq_emb = Embedding(MAX_VOCAB, 256, mask_zero=True)(encode_seq_in)\n",
    "encode_seq_dropout = Dropout(0.5)(encode_seq_emb)\n",
    "encode_seq_bi_lstm = Bidirectional(LSTM(256))(encode_seq_dropout)\n",
    "cap_gen_decoder = add([feat_ext_dense, encode_seq_bi_lstm])\n",
    "cap_gen_decoder_dense = Dense(256, activation='relu')(cap_gen_decoder)\n",
    "cap_gen_out = Dense(MAX_VOCAB, activation='softmax')(cap_gen_decoder_dense)\n",
    "merged_cap_gen = Model(inputs=[feat_ext_in, encode_seq_in], outputs=cap_gen_out)\n",
    "merged_cap_gen.compile(loss='categorical_crossentropy', optimizer='adam')\n",
    "# merged_cap_gen = tf.keras.models.load_model(\"inception_v3_bi_lstm\")"
   ]
  },
  {
   "cell_type": "code",
   "execution_count": 104,
   "metadata": {},
   "outputs": [
    {
     "name": "stdout",
     "output_type": "stream",
     "text": [
      "Epoch 1/10\n",
      "230/230 [==============================] - 333s 1s/step - loss: 1.2169\n",
      "Epoch 2/10\n",
      "230/230 [==============================] - 329s 1s/step - loss: 0.6113\n",
      "Epoch 3/10\n",
      "230/230 [==============================] - 332s 1s/step - loss: 0.4162\n",
      "Epoch 4/10\n",
      "230/230 [==============================] - 319s 1s/step - loss: 0.3398\n",
      "Epoch 5/10\n",
      "230/230 [==============================] - 310s 1s/step - loss: 0.2937\n",
      "Epoch 6/10\n",
      "230/230 [==============================] - 326s 1s/step - loss: 0.2493\n",
      "Epoch 7/10\n",
      "230/230 [==============================] - 319s 1s/step - loss: 0.2189\n",
      "Epoch 8/10\n",
      "230/230 [==============================] - 334s 1s/step - loss: 0.1965\n",
      "Epoch 9/10\n",
      "230/230 [==============================] - 342s 1s/step - loss: 0.1742\n",
      "Epoch 10/10\n",
      "230/230 [==============================] - 315s 1s/step - loss: 0.1560\n"
     ]
    }
   ],
   "source": [
    "merged_cap_gen_history = merged_cap_gen.fit([input_feat, input_seq], output_seq, batch_size=64, epochs=10)"
   ]
  },
  {
   "cell_type": "code",
   "execution_count": 105,
   "metadata": {},
   "outputs": [
    {
     "name": "stderr",
     "output_type": "stream",
     "text": [
      "WARNING:absl:Found untraced functions such as _update_step_xla, lstm_cell_7_layer_call_fn, lstm_cell_7_layer_call_and_return_conditional_losses, lstm_cell_8_layer_call_fn, lstm_cell_8_layer_call_and_return_conditional_losses while saving (showing 5 of 5). These functions will not be directly callable after loading.\n"
     ]
    },
    {
     "name": "stdout",
     "output_type": "stream",
     "text": [
      "INFO:tensorflow:Assets written to: inception_v3_bi_lstm\\assets\n"
     ]
    },
    {
     "name": "stderr",
     "output_type": "stream",
     "text": [
      "INFO:tensorflow:Assets written to: inception_v3_bi_lstm\\assets\n"
     ]
    }
   ],
   "source": [
    "merged_cap_gen.save(\"inception_v3_bi_lstm\")"
   ]
  },
  {
   "cell_type": "code",
   "execution_count": 88,
   "metadata": {},
   "outputs": [
    {
     "name": "stdout",
     "output_type": "stream",
     "text": [
      "3/3 [==============================] - 6s 2s/step\n"
     ]
    }
   ],
   "source": [
    "test_feat = inc_v3.predict(test_images_inc)\n",
    "\n",
    "test_in_feat, test_in_seq, test_out_seq = [], [], []\n",
    "\n",
    "def create_test_seq(unpadded_seq, features):\n",
    "    for i in range(1, len(unpadded_seq)):\n",
    "        in_, out = tf.keras.preprocessing.sequence.pad_sequences([unpadded_seq[:i]], maxlen=MAX_CAP_LENGTH, padding=\"post\")[0], unpadded_seq[i]\n",
    "        out = to_categorical([out], num_classes=MAX_VOCAB)[0]\n",
    "        \n",
    "        test_in_feat.append(features)\n",
    "        test_in_seq.append(in_)\n",
    "        test_out_seq.append(out)\n",
    "\n",
    "for i in range(len(test_feat)):\n",
    "    create_test_seq(test_seq[i], test_feat[i])\n",
    "    \n",
    "test_in_feat = np.array(test_in_feat).astype(np.float32)\n",
    "test_in_seq = np.array(test_in_seq).astype(np.float32)\n",
    "test_out_seq = np.array(test_out_seq).astype(np.float32)"
   ]
  },
  {
   "cell_type": "code",
   "execution_count": null,
   "metadata": {},
   "outputs": [],
   "source": [
    "predicted_captions = []\n",
    "\n",
    "for i in range(1, len(test_feat)+1):\n",
    "    pred_cap = [1]\n",
    "    \n",
    "    for j in range(1, MAX_CAP_LENGTH):\n",
    "        next_word = merged_cap_gen.predict([test_feat[i-1:i], np.array([pred_cap]).astype(np.float32)])\n",
    "        next_word = np.argmax(next_word)\n",
    "        pred_cap.append(next_word)\n",
    "        \n",
    "        if pred_cap[-1] == 34:\n",
    "            break\n",
    "    \n",
    "    new_cap = \"\"\n",
    "    \n",
    "    for seq in pred_cap:\n",
    "        new_cap += \" \" + index_to_word[seq]\n",
    "        \n",
    "    predicted_captions.append(new_cap)\n",
    "    \n",
    "\n"
   ]
  },
  {
   "cell_type": "code",
   "execution_count": 122,
   "metadata": {},
   "outputs": [],
   "source": [
    "for i, j in zip(test_captions, predicted_captions):\n",
    "    with open(\"comparision.txt\", \"a\") as f:\n",
    "        f.write(\"Actual: \" + i + \"\\nPredicted: \" + j+ \"\\n\")"
   ]
  }
 ],
 "metadata": {
  "kernelspec": {
   "display_name": "virtual-env-mic",
   "language": "python",
   "name": "python3"
  },
  "language_info": {
   "codemirror_mode": {
    "name": "ipython",
    "version": 3
   },
   "file_extension": ".py",
   "mimetype": "text/x-python",
   "name": "python",
   "nbconvert_exporter": "python",
   "pygments_lexer": "ipython3",
   "version": "3.11.1"
  },
  "orig_nbformat": 4,
  "vscode": {
   "interpreter": {
    "hash": "a4ed5eae5216fe6393d5ad77f1e11903be7fd5529586ff4e070506e5d7818f66"
   }
  }
 },
 "nbformat": 4,
 "nbformat_minor": 2
}
